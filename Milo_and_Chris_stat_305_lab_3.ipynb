{
  "nbformat": 4,
  "nbformat_minor": 0,
  "metadata": {
    "kernelspec": {
      "display_name": "Python 3",
      "language": "python",
      "name": "python3"
    },
    "language_info": {
      "codemirror_mode": {
        "name": "ipython",
        "version": 3
      },
      "file_extension": ".py",
      "mimetype": "text/x-python",
      "name": "python",
      "nbconvert_exporter": "python",
      "pygments_lexer": "ipython3",
      "version": "3.7.3"
    },
    "colab": {
      "name": " Milo and Chris stat 305 lab 3.ipynb",
      "provenance": [],
      "collapsed_sections": [
        "CDCpg1KmULa1"
      ]
    }
  },
  "cells": [
    {
      "cell_type": "markdown",
      "metadata": {
        "id": "VKdWsAWTULZT",
        "colab_type": "text"
      },
      "source": [
        "# Stat 305 Lab 3 + HW3, Part II: Joint distributions"
      ]
    },
    {
      "cell_type": "markdown",
      "metadata": {
        "id": "k-13Zvs8ULZU",
        "colab_type": "text"
      },
      "source": [
        "**For the lab/part II of the HW, you must work in teams of 2, submitting one notebook per team.**  (Your partner for the lab/part II does not have to be the same partner for the written part of the HW.)"
      ]
    },
    {
      "cell_type": "markdown",
      "metadata": {
        "id": "Gs24dmY6ULZV",
        "colab_type": "text"
      },
      "source": [
        "**TYPE YOUR NAMES HERE**"
      ]
    },
    {
      "cell_type": "markdown",
      "metadata": {
        "id": "yqXmLRqMULZW",
        "colab_type": "text"
      },
      "source": [
        "## Introduction\n",
        "\n",
        "This Jupyter notebook provides a template for you to fill in. **Read the notebook from start to finish, completing the parts as indicated.**  To run a cell, make sure the cell is highlighted by clicking on it, then press SHIFT + ENTER on your keyboard.  (Alternatively, you can click the \"play\" button in the toolbar above.)\n",
        "\n",
        "Some code has already been provided.  Be sure to run this code and view the output to understand what it does.  In other parts, you will need to provide the code yourself; use the examples provided as a guide. \n",
        "\n",
        "You will use the Python package [Symbulate](https://github.com/dlsun/symbulate).   **You should use only use Symbulate commands, not general Python code.**\n",
        "\n",
        "**Thought questions:** You should think about and discuss briefly with your partner before proceeding, but you do not need to type a response."
      ]
    },
    {
      "cell_type": "markdown",
      "metadata": {
        "id": "AGf7KXV4ULZX",
        "colab_type": "text"
      },
      "source": [
        "Be sure to run the following lines first."
      ]
    },
    {
      "cell_type": "code",
      "metadata": {
        "id": "fzfGDyYOULZZ",
        "colab_type": "code",
        "outputId": "e269646e-c1ab-4821-9303-485e50d977f6",
        "colab": {
          "base_uri": "https://localhost:8080/",
          "height": 323
        }
      },
      "source": [
        "\n",
        "!pip install symbulate"
      ],
      "execution_count": 1,
      "outputs": [
        {
          "output_type": "stream",
          "text": [
            "Collecting symbulate\n",
            "  Downloading https://files.pythonhosted.org/packages/ac/e1/b722f87d82489093ceefe9b78efdf43e3e7dc97cabe3b7970e16f6ae2d55/symbulate-0.5.5.tar.gz\n",
            "Requirement already satisfied: numpy in /usr/local/lib/python3.6/dist-packages (from symbulate) (1.16.5)\n",
            "Requirement already satisfied: scipy in /usr/local/lib/python3.6/dist-packages (from symbulate) (1.3.1)\n",
            "Requirement already satisfied: matplotlib in /usr/local/lib/python3.6/dist-packages (from symbulate) (3.0.3)\n",
            "Requirement already satisfied: cycler>=0.10 in /usr/local/lib/python3.6/dist-packages (from matplotlib->symbulate) (0.10.0)\n",
            "Requirement already satisfied: python-dateutil>=2.1 in /usr/local/lib/python3.6/dist-packages (from matplotlib->symbulate) (2.5.3)\n",
            "Requirement already satisfied: kiwisolver>=1.0.1 in /usr/local/lib/python3.6/dist-packages (from matplotlib->symbulate) (1.1.0)\n",
            "Requirement already satisfied: pyparsing!=2.0.4,!=2.1.2,!=2.1.6,>=2.0.1 in /usr/local/lib/python3.6/dist-packages (from matplotlib->symbulate) (2.4.2)\n",
            "Requirement already satisfied: six in /usr/local/lib/python3.6/dist-packages (from cycler>=0.10->matplotlib->symbulate) (1.12.0)\n",
            "Requirement already satisfied: setuptools in /usr/local/lib/python3.6/dist-packages (from kiwisolver>=1.0.1->matplotlib->symbulate) (41.2.0)\n",
            "Building wheels for collected packages: symbulate\n",
            "  Building wheel for symbulate (setup.py) ... \u001b[?25l\u001b[?25hdone\n",
            "  Created wheel for symbulate: filename=symbulate-0.5.5-cp36-none-any.whl size=38855 sha256=4dd722b252f7453f5d06f751080a2aa8a55f9d646345d6b10b770eb4ec285729\n",
            "  Stored in directory: /root/.cache/pip/wheels/37/a7/3e/4a01247a8597099e4e36c020ebdf0d036713bbfd676a65bf01\n",
            "Successfully built symbulate\n",
            "Installing collected packages: symbulate\n",
            "Successfully installed symbulate-0.5.5\n"
          ],
          "name": "stdout"
        }
      ]
    },
    {
      "cell_type": "code",
      "metadata": {
        "id": "3BL-WolrULZc",
        "colab_type": "code",
        "colab": {}
      },
      "source": [
        "from symbulate import *\n",
        "%matplotlib inline"
      ],
      "execution_count": 0,
      "outputs": []
    },
    {
      "cell_type": "markdown",
      "metadata": {
        "id": "uYTEn6qdULZe",
        "colab_type": "text"
      },
      "source": [
        "# Lab 3"
      ]
    },
    {
      "cell_type": "markdown",
      "metadata": {
        "id": "a7D-i1lAULZf",
        "colab_type": "text"
      },
      "source": [
        "In this lab you will:\n",
        "\n",
        "- Define and simulate values of random variables\n",
        "- Display simulated values in plots to visualize distributions, in particular, **joint distributions**\n",
        "- Take a closer look at covariance and correlation, numbers which measure the association between two random variables\n",
        "- Investigate transformations of random variables, and standardization\n",
        "\n",
        "Hints about thinking about/sketching distributions:\n",
        "\n",
        "1. Figure out an appropriate type of plot to sketch (Is the variable discrete or continuous?  One variable or two? Joint or marginal distribution?)\n",
        "1. Consider just one possible example value.  Or a few possible values.  Remember to consider *pairs* of values for a joint distribution.\n",
        "1. Determine all possible values and label the plot axes. Remember to consider possible *pairs* of values for a joint distribution.\n",
        "1. Then start to think about which values will be more/less likely than others.  This step is the hardest, but just doing the first three steps gets you a long way toward the answer."
      ]
    },
    {
      "cell_type": "markdown",
      "metadata": {
        "id": "O4KOkrKdULZg",
        "colab_type": "text"
      },
      "source": [
        "## a) Variance of a linear rescaling\n",
        "\n",
        "Consider a random variable $X$ that has the distribution displayed in plot E in Exercise 8.3 of Handout 8.  (In the context of the example, $X$ represents the quiz score of a randomly selected student.) The pmf is\n",
        "\n",
        "| $x$      \t|   3 \t|   4 \t|   5 \t|   6 \t|   7 \t|\n",
        "|----------\t|----:\t|----:\t|----:\t|----:\t|----:\t|\n",
        "| $p_X(x)$ \t| 1/9 \t| 2/9 \t| 3/9 \t| 2/9 \t| 1/9 \t|"
      ]
    },
    {
      "cell_type": "markdown",
      "metadata": {
        "id": "zJ0_-IldULZg",
        "colab_type": "text"
      },
      "source": [
        "Define a `RV` $X$ with this distribution.  (Hint: use [`BoxModel` with `probs`](https://dlsun.github.io/symbulate/probspace.html#boxmodel).)"
      ]
    },
    {
      "cell_type": "code",
      "metadata": {
        "id": "nAiuBNt4ULZh",
        "colab_type": "code",
        "colab": {}
      },
      "source": [
        "X=RV(BoxModel([3, 4, 5,6,7], probs=[1/9, 2/9, 3/9, 2/9, 1/9] ))\n"
      ],
      "execution_count": 0,
      "outputs": []
    },
    {
      "cell_type": "markdown",
      "metadata": {
        "id": "sTxz5RHsULZi",
        "colab_type": "text"
      },
      "source": [
        "Simulate many values of $X$, store the results, and summarize the simulated values in a plot and a table."
      ]
    },
    {
      "cell_type": "code",
      "metadata": {
        "id": "jaWTDQRfULZj",
        "colab_type": "code",
        "outputId": "16980e55-8a8a-4ec7-988d-6f99ccd1c63c",
        "colab": {
          "base_uri": "https://localhost:8080/",
          "height": 418
        }
      },
      "source": [
        "x=X.sim(1000)\n",
        "x.plot()\n",
        "x.tabulate()\n"
      ],
      "execution_count": 7,
      "outputs": [
        {
          "output_type": "execute_result",
          "data": {
            "text/html": [
              "\n",
              "<table>\n",
              "  <thead>\n",
              "    <th width=\"80%\">Outcome</th>\n",
              "    <th width=\"20%\">Value</th>\n",
              "  </thead>\n",
              "  <tbody>\n",
              "    <tr><td>3</td><td>103</td></tr><tr><td>4</td><td>209</td></tr><tr><td>5</td><td>339</td></tr><tr><td>6</td><td>252</td></tr><tr><td>7</td><td>97</td></tr><tr><td><b>Total</b></td><td><b>1000</b></td></tr>\n",
              "  </tbody>\n",
              "</table>\n"
            ],
            "text/plain": [
              "{3: 103, 4: 209, 5: 339, 6: 252, 7: 97}"
            ]
          },
          "metadata": {
            "tags": []
          },
          "execution_count": 7
        },
        {
          "output_type": "display_data",
          "data": {
            "image/png": "[encoded data removed]",
            "text/plain": [
              "<Figure size 432x288 with 1 Axes>"
            ]
          },
          "metadata": {
            "tags": []
          }
        }
      ]
    },
    {
      "cell_type": "markdown",
      "metadata": {
        "id": "XgB7aglHULZk",
        "colab_type": "text"
      },
      "source": [
        "Approximate $Var(X)$ and $SD(X)$."
      ]
    },
    {
      "cell_type": "code",
      "metadata": {
        "id": "BA7ol4obULZl",
        "colab_type": "code",
        "outputId": "c1ad028c-84fa-4322-ee37-8d1a8a219ce6",
        "colab": {
          "base_uri": "https://localhost:8080/",
          "height": 34
        }
      },
      "source": [
        "x.var(), x.sd()"
      ],
      "execution_count": 8,
      "outputs": [
        {
          "output_type": "execute_result",
          "data": {
            "text/plain": [
              "(1.260039, 1.1225145878784828)"
            ]
          },
          "metadata": {
            "tags": []
          },
          "execution_count": 8
        }
      ]
    },
    {
      "cell_type": "markdown",
      "metadata": {
        "id": "HRU53GPeULZn",
        "colab_type": "text"
      },
      "source": [
        "Now repeat the above for  $Y = X+5$.  (In the context of the example, $Y$ represents the quiz score after all scores have been curved by adding 5 points.)\n",
        "\n",
        "**Thought question:** What do you think will change? How?"
      ]
    },
    {
      "cell_type": "code",
      "metadata": {
        "id": "IsyY87wgULZn",
        "colab_type": "code",
        "outputId": "8d8391d8-460d-4497-fac0-27008c835f3c",
        "colab": {
          "base_uri": "https://localhost:8080/",
          "height": 286
        }
      },
      "source": [
        "Y = X+5\n",
        "y=Y.sim(1000)\n",
        "\n",
        "y.plot()\n",
        "y.tabulate()\n",
        "y.var(), y.sd()"
      ],
      "execution_count": 9,
      "outputs": [
        {
          "output_type": "execute_result",
          "data": {
            "text/plain": [
              "(1.4219589999999998, 1.192459223621504)"
            ]
          },
          "metadata": {
            "tags": []
          },
          "execution_count": 9
        },
        {
          "output_type": "display_data",
          "data": {
            "image/png": "[encoded data removed]",
            "text/plain": [
              "<Figure size 432x288 with 1 Axes>"
            ]
          },
          "metadata": {
            "tags": []
          }
        }
      ]
    },
    {
      "cell_type": "markdown",
      "metadata": {
        "id": "KpHR3vWaULZp",
        "colab_type": "text"
      },
      "source": [
        "Now repeat the above for  $Z = 2X$.  (In the context of the example, $X$ represents the quiz score after all scores have been doubled.)\n",
        "\n",
        "**Thought question:** What do you think will change?"
      ]
    },
    {
      "cell_type": "code",
      "metadata": {
        "id": "r957imVZULZq",
        "colab_type": "code",
        "outputId": "9ab5b171-0750-4436-b858-67d73d300a15",
        "colab": {
          "base_uri": "https://localhost:8080/",
          "height": 286
        }
      },
      "source": [
        "Z =  2*X\n",
        "z=Z.sim(1000)\n",
        "\n",
        "z.plot()\n",
        "z.tabulate()\n",
        "z.var(), z.sd()"
      ],
      "execution_count": 10,
      "outputs": [
        {
          "output_type": "execute_result",
          "data": {
            "text/plain": [
              "(5.135599999999999, 2.2661862235924035)"
            ]
          },
          "metadata": {
            "tags": []
          },
          "execution_count": 10
        },
        {
          "output_type": "display_data",
          "data": {
            "image/png": "[encoded data removed]",
            "text/plain": [
              "<Figure size 432x288 with 1 Axes>"
            ]
          },
          "metadata": {
            "tags": []
          }
        }
      ]
    },
    {
      "cell_type": "markdown",
      "metadata": {
        "id": "ADh5trASULZt",
        "colab_type": "text"
      },
      "source": [
        "**Thought questions:**\n",
        "\n",
        "- What affect does adding a constant, as in $X+5$, have on variance/SD?  Why?\n",
        "- What affect does multiplying by a constant, as in $2X$, have on variance/SD? Why?"
      ]
    },
    {
      "cell_type": "markdown",
      "metadata": {
        "id": "j-IqvbvqULZu",
        "colab_type": "text"
      },
      "source": [
        "## b) Joint distribution of two discrete RVs\n",
        "\n",
        "Consider the probability space corresponding to two rolls of a fair four-sided die.  Let $X$ be the sum of the two rolls, and let $Y$ be the number of rolls that are equal to 4.  For example, if the outcome of the rolls is $\\omega=(3, 2)$ then $X(\\omega)=5$ and $Y(\\omega)=0$."
      ]
    },
    {
      "cell_type": "markdown",
      "metadata": {
        "id": "_75hKX1qULZu",
        "colab_type": "text"
      },
      "source": [
        "Define an appropriate probability space and random variables. (Hint: use `count_eq()` to define $Y$.)"
      ]
    },
    {
      "cell_type": "code",
      "metadata": {
        "id": "5LAyM8z0ULZv",
        "colab_type": "code",
        "colab": {}
      },
      "source": [
        "P= BoxModel([1,2,3,4], 2)\n",
        "Y = RV(P, count_eq(4))\n",
        "X=RV(P, sum)"
      ],
      "execution_count": 0,
      "outputs": []
    },
    {
      "cell_type": "markdown",
      "metadata": {
        "id": "LvQWAWkIULZw",
        "colab_type": "text"
      },
      "source": [
        "Simulate many $(X, Y)$ pairs, store the results, and summarize the simulated values in a plot and a table.  Note: the default plot is a scatterplot, but `.plot('tile')` gives a better picture of relative frequencies."
      ]
    },
    {
      "cell_type": "code",
      "metadata": {
        "id": "dcaWmeBgULZx",
        "colab_type": "code",
        "outputId": "b6e9881c-a44d-4953-ed98-9bf3ef00e5be",
        "colab": {
          "base_uri": "https://localhost:8080/",
          "height": 508
        }
      },
      "source": [
        "xy=(X&Y).sim(19000)\n",
        "xy.plot('tile')\n",
        "xy.tabulate()"
      ],
      "execution_count": 13,
      "outputs": [
        {
          "output_type": "execute_result",
          "data": {
            "text/html": [
              "\n",
              "<table>\n",
              "  <thead>\n",
              "    <th width=\"80%\">Outcome</th>\n",
              "    <th width=\"20%\">Value</th>\n",
              "  </thead>\n",
              "  <tbody>\n",
              "    <tr><td>(2, 0)</td><td>1204</td></tr><tr><td>(3, 0)</td><td>2439</td></tr><tr><td>(4, 0)</td><td>3509</td></tr><tr><td>(5, 0)</td><td>2417</td></tr><tr><td>(5, 1)</td><td>2370</td></tr><tr><td>(6, 0)</td><td>1143</td></tr><tr><td>(6, 1)</td><td>2318</td></tr><tr><td>(7, 1)</td><td>2369</td></tr><tr><td>(8, 2)</td><td>1231</td></tr><tr><td><b>Total</b></td><td><b>19000</b></td></tr>\n",
              "  </tbody>\n",
              "</table>\n"
            ],
            "text/plain": [
              "{(2, 0): 1204,\n",
              " (3, 0): 2439,\n",
              " (4, 0): 3509,\n",
              " (5, 0): 2417,\n",
              " (5, 1): 2370,\n",
              " (6, 0): 1143,\n",
              " (6, 1): 2318,\n",
              " (7, 1): 2369,\n",
              " (8, 2): 1231}"
            ]
          },
          "metadata": {
            "tags": []
          },
          "execution_count": 13
        },
        {
          "output_type": "display_data",
          "data": {
            "image/png": "[encoded data removed]",
            "text/plain": [
              "<Figure size 432x288 with 2 Axes>"
            ]
          },
          "metadata": {
            "tags": []
          }
        }
      ]
    },
    {
      "cell_type": "markdown",
      "metadata": {
        "id": "KOgCt71SULZz",
        "colab_type": "text"
      },
      "source": [
        "**Thought question:** How could you determine the marginal distributions of $X$ and $Y$ from the joint distribution? What would plots of these marginal distributions look like? "
      ]
    },
    {
      "cell_type": "markdown",
      "metadata": {
        "id": "Uw7AR5ETULZz",
        "colab_type": "text"
      },
      "source": [
        "Create a plot displaying both joint and marginal distributions.  Hint: `.plot(['tile', 'marginal'])`"
      ]
    },
    {
      "cell_type": "code",
      "metadata": {
        "id": "KPUl55rGULZ0",
        "colab_type": "code",
        "outputId": "b9058669-6fdb-4e76-f401-8ca6254932a2",
        "colab": {
          "base_uri": "https://localhost:8080/",
          "height": 269
        }
      },
      "source": [
        "xy.plot(['tile', 'marginal'])"
      ],
      "execution_count": 14,
      "outputs": [
        {
          "output_type": "display_data",
          "data": {
            "image/png": "[encoded data removed]",
            "text/plain": [
              "<Figure size 432x288 with 4 Axes>"
            ]
          },
          "metadata": {
            "tags": []
          }
        }
      ]
    },
    {
      "cell_type": "markdown",
      "metadata": {
        "colab_type": "text",
        "id": "mzrpHG8zZILb"
      },
      "source": [
        "Create a plot displaying both joint and marginal distributions.  Hint: `.plot(['tile', 'marginal'])`"
      ]
    },
    {
      "cell_type": "markdown",
      "metadata": {
        "id": "7kBlD-nLULZ1",
        "colab_type": "text"
      },
      "source": [
        "Approximate $Cov(X, Y)$ and $Corr(X, Y)$."
      ]
    },
    {
      "cell_type": "code",
      "metadata": {
        "id": "XMrmJZfKULZ2",
        "colab_type": "code",
        "outputId": "00a38ae0-c2a5-4cc1-cfeb-6239ab8157bf",
        "colab": {
          "base_uri": "https://localhost:8080/",
          "height": 34
        }
      },
      "source": [
        "xy.cov(), xy.corr()"
      ],
      "execution_count": 15,
      "outputs": [
        {
          "output_type": "execute_result",
          "data": {
            "text/plain": [
              "(0.7629266842105275, 0.778148648390594)"
            ]
          },
          "metadata": {
            "tags": []
          },
          "execution_count": 15
        }
      ]
    },
    {
      "cell_type": "markdown",
      "metadata": {
        "id": "gKne06e1ULZ3",
        "colab_type": "text"
      },
      "source": [
        "**Thought question:** Why is the correlation positive?"
      ]
    },
    {
      "cell_type": "markdown",
      "metadata": {
        "id": "7oX7faAcULZ4",
        "colab_type": "text"
      },
      "source": [
        "Let $Z$ be the number of rolls that are equal to 1.\n",
        "\n",
        "**Thought question:** Will $Corr(X, Z)$ be positive, negative, or zero? Why?\n",
        "\n",
        "Repeat for $(X, Z)$ what you did for $(X, Y)$."
      ]
    },
    {
      "cell_type": "code",
      "metadata": {
        "id": "95r0sEvXULZ4",
        "colab_type": "code",
        "outputId": "60f10512-7930-483b-8754-2bb43f3dc653",
        "colab": {
          "base_uri": "https://localhost:8080/",
          "height": 292
        }
      },
      "source": [
        "Z = RV(P, count_eq(1))\n",
        "xz = (X&Z).sim(19000)\n",
        "xz.plot('tile')\n",
        "xz.cov(), xz.corr()\n"
      ],
      "execution_count": 16,
      "outputs": [
        {
          "output_type": "execute_result",
          "data": {
            "text/plain": [
              "(-0.742810537396122, -0.7708981526909553)"
            ]
          },
          "metadata": {
            "tags": []
          },
          "execution_count": 16
        },
        {
          "output_type": "display_data",
          "data": {
            "image/png": "[encoded data removed]",
            "text/plain": [
              "<Figure size 432x288 with 2 Axes>"
            ]
          },
          "metadata": {
            "tags": []
          }
        }
      ]
    },
    {
      "cell_type": "markdown",
      "metadata": {
        "id": "Bjr1tUfNULZ6",
        "colab_type": "text"
      },
      "source": [
        "**Thought question:** Will $Corr(Y, Z)$ be positive, negative, or zero? Why?\n",
        "\n",
        "Repeat for $(Y, Z)$ what you did for $(X, Y)$."
      ]
    },
    {
      "cell_type": "code",
      "metadata": {
        "id": "M-XfOE9iULZ6",
        "colab_type": "code",
        "outputId": "ee886e1e-8059-4e40-e360-05a42f265371",
        "colab": {
          "base_uri": "https://localhost:8080/",
          "height": 292
        }
      },
      "source": [
        "yz = (Y&Z).sim(19000)\n",
        "yz.plot('tile')\n",
        "yz.cov(), yz.corr()"
      ],
      "execution_count": 17,
      "outputs": [
        {
          "output_type": "execute_result",
          "data": {
            "text/plain": [
              "(-0.12282000000000007, -0.3285692196715841)"
            ]
          },
          "metadata": {
            "tags": []
          },
          "execution_count": 17
        },
        {
          "output_type": "display_data",
          "data": {
            "image/png": "[encoded data removed]",
            "text/plain": [
              "<Figure size 432x288 with 2 Axes>"
            ]
          },
          "metadata": {
            "tags": []
          }
        }
      ]
    },
    {
      "cell_type": "markdown",
      "metadata": {
        "id": "CFip8ST5ULZ8",
        "colab_type": "text"
      },
      "source": [
        "Let $W=Y+Z$\\.\n",
        "\n",
        "**Thought question:** Will $Corr(X, W)$ be positive, negative, or zero? Why?\n",
        "\n",
        "Repeat for $(X, W)$ what you did for $(X, Y)$."
      ]
    },
    {
      "cell_type": "code",
      "metadata": {
        "id": "Lf92xqQZULZ9",
        "colab_type": "code",
        "outputId": "7e06d689-986f-469c-f316-db64e31b5884",
        "colab": {
          "base_uri": "https://localhost:8080/",
          "height": 292
        }
      },
      "source": [
        "W = Y + Z\n",
        "xw = (X&W).sim(19000)\n",
        "xw.plot('tile')\n",
        "xw.cov(), xw.corr()"
      ],
      "execution_count": 18,
      "outputs": [
        {
          "output_type": "execute_result",
          "data": {
            "text/plain": [
              "(-0.005297185595567698, -0.004696590409716922)"
            ]
          },
          "metadata": {
            "tags": []
          },
          "execution_count": 18
        },
        {
          "output_type": "display_data",
          "data": {
            "image/png": "[encoded data removed]",
            "text/plain": [
              "<Figure size 432x288 with 2 Axes>"
            ]
          },
          "metadata": {
            "tags": []
          }
        }
      ]
    },
    {
      "cell_type": "markdown",
      "metadata": {
        "id": "a6h1ORfgULaC",
        "colab_type": "text"
      },
      "source": [
        "**Thought questions:**\n",
        "\n",
        "- Can you explain why the plots look like they do?\n",
        "- Can you explain why the covariance/correlation is positive/negative/zero?"
      ]
    },
    {
      "cell_type": "markdown",
      "metadata": {
        "id": "mwUe0Y3qULaD",
        "colab_type": "text"
      },
      "source": [
        "## c) Joint distribution of two continuous RVs\n",
        "\n",
        "Spin the Uniform(0, 1) spinner twice and let $X$ be the sum of the two spins and $Y$ the larger of the two spins.\n",
        "\n",
        "**Thought question:** Sketch a plot representing the joint distribution of $X$ and $Y$.  Will the covariance/correlation be positive, negative, or zero?"
      ]
    },
    {
      "cell_type": "markdown",
      "metadata": {
        "id": "L7fhIdayULaD",
        "colab_type": "text"
      },
      "source": [
        "Define an appropriate probability space and RVs.  (Hint: remember `** 2` for \"spin twice\".)"
      ]
    },
    {
      "cell_type": "code",
      "metadata": {
        "id": "Kz-fsDAzULaE",
        "colab_type": "code",
        "colab": {}
      },
      "source": [
        "P = Uniform(0,1)**2\n",
        "X = RV(P,sum)\n",
        "Y = RV(P,max)"
      ],
      "execution_count": 0,
      "outputs": []
    },
    {
      "cell_type": "markdown",
      "metadata": {
        "id": "ya3ymqo_ULaG",
        "colab_type": "text"
      },
      "source": [
        "Simulate many $(X, Y)$ pairs, store the results, and summarize the simulated values in a plot.  Note: the default plot is scatterplot, but that doesn't give a great sense of relative frequency.  You can get a two-dimensional histogram with `.plot('hist')`, which works but produces an error message.  You can also try `plot('density')` for a smoother density plot than a histogram, but this sometimes takes a minute to run."
      ]
    },
    {
      "cell_type": "code",
      "metadata": {
        "id": "H8lF-hp7ULaG",
        "colab_type": "code",
        "outputId": "f300e682-ddb7-4aa3-e6f2-701f9447a785",
        "colab": {
          "base_uri": "https://localhost:8080/",
          "height": 275
        }
      },
      "source": [
        "xy = (X&Y).sim(10000)\n",
        "xy.plot('density')"
      ],
      "execution_count": 20,
      "outputs": [
        {
          "output_type": "display_data",
          "data": {
            "image/png": "[encoded data removed]",
            "text/plain": [
              "<Figure size 432x288 with 2 Axes>"
            ]
          },
          "metadata": {
            "tags": []
          }
        }
      ]
    },
    {
      "cell_type": "markdown",
      "metadata": {
        "id": "DYnYZ_rCULaI",
        "colab_type": "text"
      },
      "source": [
        "**Thought question:** How could you determine the marginal distributions of $X$ and $Y$ from the joint distribution? What would plots of these marginal distributions look like? "
      ]
    },
    {
      "cell_type": "markdown",
      "metadata": {
        "id": "KUDxpXwOULaI",
        "colab_type": "text"
      },
      "source": [
        "Create a plot displaying both joint and marginal distributions.  Hint: add `'marginal'` to whatever plot you created above, e.g., `.plot(['scatter', 'marginal'])` or `.plot(['hist', 'marginal'])`"
      ]
    },
    {
      "cell_type": "code",
      "metadata": {
        "id": "-Y4qIJ4_ULaJ",
        "colab_type": "code",
        "outputId": "cbc27a1e-c777-4981-e731-2be0d9a63877",
        "colab": {
          "base_uri": "https://localhost:8080/",
          "height": 534
        }
      },
      "source": [
        "xy.plot(['hist','marginal'])"
      ],
      "execution_count": 21,
      "outputs": [
        {
          "output_type": "error",
          "ename": "ValueError",
          "evalue": "ignored",
          "traceback": [
            "\u001b[0;31m---------------------------------------------------------------------------\u001b[0m",
            "\u001b[0;31mValueError\u001b[0m                                Traceback (most recent call last)",
            "\u001b[0;32m<ipython-input-21-a000a690c9c3>\u001b[0m in \u001b[0;36m<module>\u001b[0;34m()\u001b[0m\n\u001b[0;32m----> 1\u001b[0;31m \u001b[0mxy\u001b[0m\u001b[0;34m.\u001b[0m\u001b[0mplot\u001b[0m\u001b[0;34m(\u001b[0m\u001b[0;34m[\u001b[0m\u001b[0;34m'hist'\u001b[0m\u001b[0;34m,\u001b[0m\u001b[0;34m'marginal'\u001b[0m\u001b[0;34m]\u001b[0m\u001b[0;34m)\u001b[0m\u001b[0;34m\u001b[0m\u001b[0;34m\u001b[0m\u001b[0m\n\u001b[0m",
            "\u001b[0;32m/usr/local/lib/python3.6/dist-packages/symbulate/results.py\u001b[0m in \u001b[0;36mplot\u001b[0;34m(self, type, alpha, normalize, jitter, bins, **kwargs)\u001b[0m\n\u001b[1;32m    536\u001b[0m                     \u001b[0mnew_labels\u001b[0m \u001b[0;34m=\u001b[0m \u001b[0;34m[\u001b[0m\u001b[0;34m]\u001b[0m\u001b[0;34m\u001b[0m\u001b[0;34m\u001b[0m\u001b[0m\n\u001b[1;32m    537\u001b[0m                     \u001b[0;32mfor\u001b[0m \u001b[0mlabel\u001b[0m \u001b[0;32min\u001b[0m \u001b[0mcaxes\u001b[0m\u001b[0;34m.\u001b[0m\u001b[0mget_yticklabels\u001b[0m\u001b[0;34m(\u001b[0m\u001b[0;34m)\u001b[0m\u001b[0;34m:\u001b[0m\u001b[0;34m\u001b[0m\u001b[0;34m\u001b[0m\u001b[0m\n\u001b[0;32m--> 538\u001b[0;31m                         \u001b[0mnew_labels\u001b[0m\u001b[0;34m.\u001b[0m\u001b[0mappend\u001b[0m\u001b[0;34m(\u001b[0m\u001b[0mint\u001b[0m\u001b[0;34m(\u001b[0m\u001b[0mlabel\u001b[0m\u001b[0;34m.\u001b[0m\u001b[0mget_text\u001b[0m\u001b[0;34m(\u001b[0m\u001b[0;34m)\u001b[0m\u001b[0;34m)\u001b[0m \u001b[0;34m/\u001b[0m \u001b[0mlen\u001b[0m\u001b[0;34m(\u001b[0m\u001b[0mx\u001b[0m\u001b[0;34m)\u001b[0m\u001b[0;34m)\u001b[0m\u001b[0;34m\u001b[0m\u001b[0;34m\u001b[0m\u001b[0m\n\u001b[0m\u001b[1;32m    539\u001b[0m                     \u001b[0mcaxes\u001b[0m\u001b[0;34m.\u001b[0m\u001b[0mset_yticklabels\u001b[0m\u001b[0;34m(\u001b[0m\u001b[0mnew_labels\u001b[0m\u001b[0;34m)\u001b[0m\u001b[0;34m\u001b[0m\u001b[0;34m\u001b[0m\u001b[0m\n\u001b[1;32m    540\u001b[0m                 \u001b[0;32melse\u001b[0m\u001b[0;34m:\u001b[0m\u001b[0;34m\u001b[0m\u001b[0;34m\u001b[0m\u001b[0m\n",
            "\u001b[0;31mValueError\u001b[0m: invalid literal for int() with base 10: ''"
          ]
        },
        {
          "output_type": "display_data",
          "data": {
            "image/png": "[encoded data removed]",
            "text/plain": [
              "<Figure size 432x288 with 4 Axes>"
            ]
          },
          "metadata": {
            "tags": []
          }
        }
      ]
    },
    {
      "cell_type": "markdown",
      "metadata": {
        "id": "nVrazHzxULaL",
        "colab_type": "text"
      },
      "source": [
        "Approximate $Cov(X, Y)$ and $Corr(X, Y)$."
      ]
    },
    {
      "cell_type": "code",
      "metadata": {
        "id": "wt8BnU1uULaL",
        "colab_type": "code",
        "outputId": "8b421e15-c96f-4d24-bc86-21979710b8d5",
        "colab": {
          "base_uri": "https://localhost:8080/",
          "height": 34
        }
      },
      "source": [
        "xy.cov(),xy.corr()"
      ],
      "execution_count": 22,
      "outputs": [
        {
          "output_type": "execute_result",
          "data": {
            "text/plain": [
              "(0.0826632576996796, 0.8641529597278933)"
            ]
          },
          "metadata": {
            "tags": []
          },
          "execution_count": 22
        }
      ]
    },
    {
      "cell_type": "markdown",
      "metadata": {
        "id": "VaM1D2w5ULaN",
        "colab_type": "text"
      },
      "source": [
        "**Thought questions:**\n",
        "    \n",
        "- Can you explain why the plots look the way they do?\n",
        "- Can you suggest an expression for the joint pdf? Would you say that the joint distribution is uniform over the range of possible values?\n",
        "- Can you suggest expressions for the marginal pdfs?\n",
        "- Can you explain the value of correlation?"
      ]
    },
    {
      "cell_type": "markdown",
      "metadata": {
        "id": "BACD6R8WULaO",
        "colab_type": "text"
      },
      "source": [
        "## d) Two more continuous RVs\n",
        "\n",
        "Spin the Uniform(0, 1) spinner twice and let $U_1$ be the result of the first spin and $U_2$ the result of the second.  Define $X=-\\log(U_1)$ and $Y=(2U_2-1)X$.\n",
        "\n",
        "**Thought question:** Sketch a plot representing the joint distribution of $X$ and $Y$.  Will the covariance/correlation be positive, negative, or zero?"
      ]
    },
    {
      "cell_type": "markdown",
      "metadata": {
        "id": "uarUQ1v_ULaP",
        "colab_type": "text"
      },
      "source": [
        "Define an appropriate probability space and RVs.  (Hint: remember `** 2` for \"spin twice\".)"
      ]
    },
    {
      "cell_type": "code",
      "metadata": {
        "id": "h4M6AyfmULaP",
        "colab_type": "code",
        "colab": {}
      },
      "source": [
        "P = Uniform(0,1)**2\n",
        "U1,U2 = RV(P)\n",
        "X = -log(U1)\n",
        "Y = (2*U2-1)*X\n"
      ],
      "execution_count": 0,
      "outputs": []
    },
    {
      "cell_type": "markdown",
      "metadata": {
        "id": "i8PWsXuHULaQ",
        "colab_type": "text"
      },
      "source": [
        "Simulate many $(X, Y)$ pairs, store the results, and summarize the simulated values in a plot.  Note: you should definitely try a scatterplot first for this one, because the scale of values in this particular problem obscures the histogram and density plots.  So try scatter first, and then you can try other plots."
      ]
    },
    {
      "cell_type": "code",
      "metadata": {
        "id": "QBit7VZjULaR",
        "colab_type": "code",
        "outputId": "2b17ae0a-0047-4658-f0c8-132beee24054",
        "colab": {
          "base_uri": "https://localhost:8080/",
          "height": 269
        }
      },
      "source": [
        "xy = (X&Y).sim(10000)\n",
        "xy.plot(['scatter','marginal'])\n"
      ],
      "execution_count": 24,
      "outputs": [
        {
          "output_type": "display_data",
          "data": {
            "image/png": "[encoded data removed]",
            "text/plain": [
              "<Figure size 432x288 with 3 Axes>"
            ]
          },
          "metadata": {
            "tags": []
          }
        }
      ]
    },
    {
      "cell_type": "markdown",
      "metadata": {
        "id": "Xkd3phXHULaT",
        "colab_type": "text"
      },
      "source": [
        "**Thought question:** How could you determine the marginal distributions of $X$ and $Y$ from the joint distribution? What would plots of these marginal distributions look like? "
      ]
    },
    {
      "cell_type": "markdown",
      "metadata": {
        "id": "nh640FEjULaT",
        "colab_type": "text"
      },
      "source": [
        "Create a plot displaying both joint and marginal distributions.  Hint: add `'marginal'` to whatever plot you created above, e.g., `.plot(['scatter', 'marginal'])` or `.plot(['hist', 'marginal'])`"
      ]
    },
    {
      "cell_type": "code",
      "metadata": {
        "id": "25eZMxmNULaU",
        "colab_type": "code",
        "outputId": "9fe6b96d-74e5-4a6f-fb61-16cfefa1747d",
        "colab": {
          "base_uri": "https://localhost:8080/",
          "height": 269
        }
      },
      "source": [
        "xy.plot(['scatter','marginal'])"
      ],
      "execution_count": 25,
      "outputs": [
        {
          "output_type": "display_data",
          "data": {
            "image/png": "[encoded data removed]",
            "text/plain": [
              "<Figure size 432x288 with 3 Axes>"
            ]
          },
          "metadata": {
            "tags": []
          }
        }
      ]
    },
    {
      "cell_type": "markdown",
      "metadata": {
        "id": "dwOO46s-ULaW",
        "colab_type": "text"
      },
      "source": [
        "Approximate $Cov(X, Y)$ and $Corr(X, Y)$."
      ]
    },
    {
      "cell_type": "code",
      "metadata": {
        "id": "21SIS0_zULaW",
        "colab_type": "code",
        "outputId": "b14fc7af-d016-48cb-d7c8-aac6694fd5eb",
        "colab": {
          "base_uri": "https://localhost:8080/",
          "height": 34
        }
      },
      "source": [
        "xy.cov(), xy.corr()"
      ],
      "execution_count": 26,
      "outputs": [
        {
          "output_type": "execute_result",
          "data": {
            "text/plain": [
              "(0.027444714625579434, 0.033874281994361856)"
            ]
          },
          "metadata": {
            "tags": []
          },
          "execution_count": 26
        }
      ]
    },
    {
      "cell_type": "markdown",
      "metadata": {
        "id": "PNHrDap_ULaY",
        "colab_type": "text"
      },
      "source": [
        "**Thought questions:**\n",
        "    \n",
        "- Can you explain why the plots look the way they do?\n",
        "- Can you suggest an expression for the joint pdf? Would you say that the joint distribution is uniform over the range of possible values?\n",
        "- Can you suggest expressions for the marginal pdfs?\n",
        "- Can you explain the value of correlation?"
      ]
    },
    {
      "cell_type": "markdown",
      "metadata": {
        "id": "pKLzZRkRULaY",
        "colab_type": "text"
      },
      "source": [
        "**Thought question:** Recall that $Y=(2U_2-1)X$.  Define $Z=(2U_1-1)X$.  Would $Y$ and $Z$ have the same marginal distribution?  Would the joint distribution of $(X, Y)$ be the same as the joint distribution of $(X, Z)$?"
      ]
    },
    {
      "cell_type": "markdown",
      "metadata": {
        "id": "Tisie7CDULaZ",
        "colab_type": "text"
      },
      "source": [
        "## e) Standardization (Mostly just read and run)\n"
      ]
    },
    {
      "cell_type": "markdown",
      "metadata": {
        "id": "qRAueGlDULaZ",
        "colab_type": "text"
      },
      "source": [
        "Assume that SAT Math ($X$) and Reading ($Y$) scores follow a Bivariate Normal distribution with mean 500 for each score, SD 100 for each score, and a correlation of 0.8."
      ]
    },
    {
      "cell_type": "code",
      "metadata": {
        "id": "J5ugMqKtULaa",
        "colab_type": "code",
        "colab": {}
      },
      "source": [
        "P = BivariateNormal(mean1 = 500, sd1 = 100, mean2 = 500, sd2 = 100, corr = 0.8)\n",
        "X, Y = RV(P)"
      ],
      "execution_count": 0,
      "outputs": []
    },
    {
      "cell_type": "markdown",
      "metadata": {
        "id": "UmjbHeeWULab",
        "colab_type": "text"
      },
      "source": [
        "Simulate many $(X, Y)$ pairs, summarize in a plot, and use the simulated results to estimate $\\text{Cov}(X, Y)$."
      ]
    },
    {
      "cell_type": "code",
      "metadata": {
        "id": "-tZ7XOCmULac",
        "colab_type": "code",
        "outputId": "bcfa6bbe-d84d-4a74-d520-a518204cb25a",
        "colab": {
          "base_uri": "https://localhost:8080/",
          "height": 551
        }
      },
      "source": [
        "xy = (X & Y).sim(10000)\n",
        "xy.plot(['hist', 'marginal'])"
      ],
      "execution_count": 28,
      "outputs": [
        {
          "output_type": "error",
          "ename": "ValueError",
          "evalue": "ignored",
          "traceback": [
            "\u001b[0;31m---------------------------------------------------------------------------\u001b[0m",
            "\u001b[0;31mValueError\u001b[0m                                Traceback (most recent call last)",
            "\u001b[0;32m<ipython-input-28-5d2b6a01a97f>\u001b[0m in \u001b[0;36m<module>\u001b[0;34m()\u001b[0m\n\u001b[1;32m      1\u001b[0m \u001b[0mxy\u001b[0m \u001b[0;34m=\u001b[0m \u001b[0;34m(\u001b[0m\u001b[0mX\u001b[0m \u001b[0;34m&\u001b[0m \u001b[0mY\u001b[0m\u001b[0;34m)\u001b[0m\u001b[0;34m.\u001b[0m\u001b[0msim\u001b[0m\u001b[0;34m(\u001b[0m\u001b[0;36m10000\u001b[0m\u001b[0;34m)\u001b[0m\u001b[0;34m\u001b[0m\u001b[0;34m\u001b[0m\u001b[0m\n\u001b[0;32m----> 2\u001b[0;31m \u001b[0mxy\u001b[0m\u001b[0;34m.\u001b[0m\u001b[0mplot\u001b[0m\u001b[0;34m(\u001b[0m\u001b[0;34m[\u001b[0m\u001b[0;34m'hist'\u001b[0m\u001b[0;34m,\u001b[0m \u001b[0;34m'marginal'\u001b[0m\u001b[0;34m]\u001b[0m\u001b[0;34m)\u001b[0m\u001b[0;34m\u001b[0m\u001b[0;34m\u001b[0m\u001b[0m\n\u001b[0m",
            "\u001b[0;32m/usr/local/lib/python3.6/dist-packages/symbulate/results.py\u001b[0m in \u001b[0;36mplot\u001b[0;34m(self, type, alpha, normalize, jitter, bins, **kwargs)\u001b[0m\n\u001b[1;32m    536\u001b[0m                     \u001b[0mnew_labels\u001b[0m \u001b[0;34m=\u001b[0m \u001b[0;34m[\u001b[0m\u001b[0;34m]\u001b[0m\u001b[0;34m\u001b[0m\u001b[0;34m\u001b[0m\u001b[0m\n\u001b[1;32m    537\u001b[0m                     \u001b[0;32mfor\u001b[0m \u001b[0mlabel\u001b[0m \u001b[0;32min\u001b[0m \u001b[0mcaxes\u001b[0m\u001b[0;34m.\u001b[0m\u001b[0mget_yticklabels\u001b[0m\u001b[0;34m(\u001b[0m\u001b[0;34m)\u001b[0m\u001b[0;34m:\u001b[0m\u001b[0;34m\u001b[0m\u001b[0;34m\u001b[0m\u001b[0m\n\u001b[0;32m--> 538\u001b[0;31m                         \u001b[0mnew_labels\u001b[0m\u001b[0;34m.\u001b[0m\u001b[0mappend\u001b[0m\u001b[0;34m(\u001b[0m\u001b[0mint\u001b[0m\u001b[0;34m(\u001b[0m\u001b[0mlabel\u001b[0m\u001b[0;34m.\u001b[0m\u001b[0mget_text\u001b[0m\u001b[0;34m(\u001b[0m\u001b[0;34m)\u001b[0m\u001b[0;34m)\u001b[0m \u001b[0;34m/\u001b[0m \u001b[0mlen\u001b[0m\u001b[0;34m(\u001b[0m\u001b[0mx\u001b[0m\u001b[0;34m)\u001b[0m\u001b[0;34m)\u001b[0m\u001b[0;34m\u001b[0m\u001b[0;34m\u001b[0m\u001b[0m\n\u001b[0m\u001b[1;32m    539\u001b[0m                     \u001b[0mcaxes\u001b[0m\u001b[0;34m.\u001b[0m\u001b[0mset_yticklabels\u001b[0m\u001b[0;34m(\u001b[0m\u001b[0mnew_labels\u001b[0m\u001b[0;34m)\u001b[0m\u001b[0;34m\u001b[0m\u001b[0;34m\u001b[0m\u001b[0m\n\u001b[1;32m    540\u001b[0m                 \u001b[0;32melse\u001b[0m\u001b[0;34m:\u001b[0m\u001b[0;34m\u001b[0m\u001b[0;34m\u001b[0m\u001b[0m\n",
            "\u001b[0;31mValueError\u001b[0m: invalid literal for int() with base 10: ''"
          ]
        },
        {
          "output_type": "display_data",
          "data": {
            "image/png": "[encoded data removed]",
            "text/plain": [
              "<Figure size 432x288 with 4 Axes>"
            ]
          },
          "metadata": {
            "tags": []
          }
        }
      ]
    },
    {
      "cell_type": "code",
      "metadata": {
        "id": "peQmWto9ULae",
        "colab_type": "code",
        "outputId": "dc995c2a-63c2-425e-edbe-f6dd7b22054f",
        "colab": {
          "base_uri": "https://localhost:8080/",
          "height": 34
        }
      },
      "source": [
        "xy.cov(), xy.corr()"
      ],
      "execution_count": 29,
      "outputs": [
        {
          "output_type": "execute_result",
          "data": {
            "text/plain": [
              "(7862.680656177026, 0.7981955819845669)"
            ]
          },
          "metadata": {
            "tags": []
          },
          "execution_count": 29
        }
      ]
    },
    {
      "cell_type": "markdown",
      "metadata": {
        "id": "8k8PX9iBULag",
        "colab_type": "text"
      },
      "source": [
        "`xy` stores (x, y) pairs.  The following just picks off the x values and y values separately."
      ]
    },
    {
      "cell_type": "code",
      "metadata": {
        "id": "zG06FURiULag",
        "colab_type": "code",
        "colab": {}
      },
      "source": [
        "x = xy[0]\n",
        "y = xy[1]"
      ],
      "execution_count": 0,
      "outputs": []
    },
    {
      "cell_type": "markdown",
      "metadata": {
        "id": "QMs3bJOJULai",
        "colab_type": "text"
      },
      "source": [
        "We can compute $SD(X), SD(Y)$ and see that $Corr(X, Y) = \\frac{Cov(X, Y)}{SD(X)SD(Y)}$."
      ]
    },
    {
      "cell_type": "code",
      "metadata": {
        "id": "SLI1nBLDULai",
        "colab_type": "code",
        "outputId": "65e164f9-1395-4af7-a9c7-16b3305e84d5",
        "colab": {
          "base_uri": "https://localhost:8080/",
          "height": 34
        }
      },
      "source": [
        "x.sd(), y.sd()"
      ],
      "execution_count": 31,
      "outputs": [
        {
          "output_type": "execute_result",
          "data": {
            "text/plain": [
              "(99.22116307212328, 99.27891082338215)"
            ]
          },
          "metadata": {
            "tags": []
          },
          "execution_count": 31
        }
      ]
    },
    {
      "cell_type": "code",
      "metadata": {
        "id": "yx4bAiYaULaj",
        "colab_type": "code",
        "outputId": "f3cc5233-d5fd-4a09-ea47-1c6700d77103",
        "colab": {
          "base_uri": "https://localhost:8080/",
          "height": 34
        }
      },
      "source": [
        "xy.cov() / (x.sd() * y.sd())"
      ],
      "execution_count": 32,
      "outputs": [
        {
          "output_type": "execute_result",
          "data": {
            "text/plain": [
              "0.798195581984567"
            ]
          },
          "metadata": {
            "tags": []
          },
          "execution_count": 32
        }
      ]
    },
    {
      "cell_type": "markdown",
      "metadata": {
        "id": "9NVljtVkULam",
        "colab_type": "text"
      },
      "source": [
        "A standardized RV is defined as $\\frac{X-E(X)}{SD(X)}$.\n",
        "\n",
        "**Thought questions:** Will standardizing a RV change the *shape* of its distribution?  What will the expected value and SD of a standardized RV be?"
      ]
    },
    {
      "cell_type": "markdown",
      "metadata": {
        "id": "kd9VbXzIULam",
        "colab_type": "text"
      },
      "source": [
        "A standardized RV has expected 0 and standard deviation 1."
      ]
    },
    {
      "cell_type": "code",
      "metadata": {
        "id": "qvBb05A-ULan",
        "colab_type": "code",
        "outputId": "f8161b1e-ba46-4f35-9494-aa57bd3c2cc5",
        "colab": {
          "base_uri": "https://localhost:8080/",
          "height": 286
        }
      },
      "source": [
        "zx = (x - x.mean()) / x.sd()\n",
        "zx.plot()\n",
        "zx.mean(), zx.sd()"
      ],
      "execution_count": 33,
      "outputs": [
        {
          "output_type": "execute_result",
          "data": {
            "text/plain": [
              "(-3.2720492981752614e-16, 1.0)"
            ]
          },
          "metadata": {
            "tags": []
          },
          "execution_count": 33
        },
        {
          "output_type": "display_data",
          "data": {
            "image/png": "[encoded data removed]",
            "text/plain": [
              "<Figure size 432x288 with 1 Axes>"
            ]
          },
          "metadata": {
            "tags": []
          }
        }
      ]
    },
    {
      "cell_type": "code",
      "metadata": {
        "id": "bvjbq4W2ULao",
        "colab_type": "code",
        "outputId": "e308b051-2349-473c-ecfa-5ebc6627e623",
        "colab": {
          "base_uri": "https://localhost:8080/",
          "height": 286
        }
      },
      "source": [
        "zy = (y - y.mean()) / y.sd()\n",
        "zy.plot()\n",
        "zy.mean(), zy.sd()"
      ],
      "execution_count": 34,
      "outputs": [
        {
          "output_type": "execute_result",
          "data": {
            "text/plain": [
              "(3.399946990612079e-16, 1.0)"
            ]
          },
          "metadata": {
            "tags": []
          },
          "execution_count": 34
        },
        {
          "output_type": "display_data",
          "data": {
            "image/png": "[encoded data removed]",
            "text/plain": [
              "<Figure size 432x288 with 1 Axes>"
            ]
          },
          "metadata": {
            "tags": []
          }
        }
      ]
    },
    {
      "cell_type": "markdown",
      "metadata": {
        "id": "wpE2wsHaULap",
        "colab_type": "text"
      },
      "source": [
        "Correlation is the covariance between the standardized versions of the RVs.\n",
        "\n",
        "$$\n",
        "Corr(X, Y) = Cov\\left(\\frac{X-E(X)}{SD(X)}, \\frac{Y-E(Y)}{SD(Y)}\\right)\n",
        "$$"
      ]
    },
    {
      "cell_type": "code",
      "metadata": {
        "id": "RODx9VstULaq",
        "colab_type": "code",
        "outputId": "a3b88a53-447b-48bb-9ffe-73d6ce9fe38d",
        "colab": {
          "base_uri": "https://localhost:8080/",
          "height": 34
        }
      },
      "source": [
        "(zx * zy).mean() - (zx.mean() * zy.mean())"
      ],
      "execution_count": 35,
      "outputs": [
        {
          "output_type": "execute_result",
          "data": {
            "text/plain": [
              "0.798195581984567"
            ]
          },
          "metadata": {
            "tags": []
          },
          "execution_count": 35
        }
      ]
    },
    {
      "cell_type": "markdown",
      "metadata": {
        "id": "vxhMWl5LULar",
        "colab_type": "text"
      },
      "source": [
        "You can also use `.standardize`."
      ]
    },
    {
      "cell_type": "code",
      "metadata": {
        "id": "RgulQNVLULar",
        "colab_type": "code",
        "outputId": "708a63ea-1ea8-4efe-d547-5535d843bdad",
        "colab": {
          "base_uri": "https://localhost:8080/",
          "height": 534
        }
      },
      "source": [
        "xy.standardize().plot(['hist', 'marginal'])"
      ],
      "execution_count": 36,
      "outputs": [
        {
          "output_type": "error",
          "ename": "ValueError",
          "evalue": "ignored",
          "traceback": [
            "\u001b[0;31m---------------------------------------------------------------------------\u001b[0m",
            "\u001b[0;31mValueError\u001b[0m                                Traceback (most recent call last)",
            "\u001b[0;32m<ipython-input-36-438c19f5724a>\u001b[0m in \u001b[0;36m<module>\u001b[0;34m()\u001b[0m\n\u001b[0;32m----> 1\u001b[0;31m \u001b[0mxy\u001b[0m\u001b[0;34m.\u001b[0m\u001b[0mstandardize\u001b[0m\u001b[0;34m(\u001b[0m\u001b[0;34m)\u001b[0m\u001b[0;34m.\u001b[0m\u001b[0mplot\u001b[0m\u001b[0;34m(\u001b[0m\u001b[0;34m[\u001b[0m\u001b[0;34m'hist'\u001b[0m\u001b[0;34m,\u001b[0m \u001b[0;34m'marginal'\u001b[0m\u001b[0;34m]\u001b[0m\u001b[0;34m)\u001b[0m\u001b[0;34m\u001b[0m\u001b[0;34m\u001b[0m\u001b[0m\n\u001b[0m",
            "\u001b[0;32m/usr/local/lib/python3.6/dist-packages/symbulate/results.py\u001b[0m in \u001b[0;36mplot\u001b[0;34m(self, type, alpha, normalize, jitter, bins, **kwargs)\u001b[0m\n\u001b[1;32m    536\u001b[0m                     \u001b[0mnew_labels\u001b[0m \u001b[0;34m=\u001b[0m \u001b[0;34m[\u001b[0m\u001b[0;34m]\u001b[0m\u001b[0;34m\u001b[0m\u001b[0;34m\u001b[0m\u001b[0m\n\u001b[1;32m    537\u001b[0m                     \u001b[0;32mfor\u001b[0m \u001b[0mlabel\u001b[0m \u001b[0;32min\u001b[0m \u001b[0mcaxes\u001b[0m\u001b[0;34m.\u001b[0m\u001b[0mget_yticklabels\u001b[0m\u001b[0;34m(\u001b[0m\u001b[0;34m)\u001b[0m\u001b[0;34m:\u001b[0m\u001b[0;34m\u001b[0m\u001b[0;34m\u001b[0m\u001b[0m\n\u001b[0;32m--> 538\u001b[0;31m                         \u001b[0mnew_labels\u001b[0m\u001b[0;34m.\u001b[0m\u001b[0mappend\u001b[0m\u001b[0;34m(\u001b[0m\u001b[0mint\u001b[0m\u001b[0;34m(\u001b[0m\u001b[0mlabel\u001b[0m\u001b[0;34m.\u001b[0m\u001b[0mget_text\u001b[0m\u001b[0;34m(\u001b[0m\u001b[0;34m)\u001b[0m\u001b[0;34m)\u001b[0m \u001b[0;34m/\u001b[0m \u001b[0mlen\u001b[0m\u001b[0;34m(\u001b[0m\u001b[0mx\u001b[0m\u001b[0;34m)\u001b[0m\u001b[0;34m)\u001b[0m\u001b[0;34m\u001b[0m\u001b[0;34m\u001b[0m\u001b[0m\n\u001b[0m\u001b[1;32m    539\u001b[0m                     \u001b[0mcaxes\u001b[0m\u001b[0;34m.\u001b[0m\u001b[0mset_yticklabels\u001b[0m\u001b[0;34m(\u001b[0m\u001b[0mnew_labels\u001b[0m\u001b[0;34m)\u001b[0m\u001b[0;34m\u001b[0m\u001b[0;34m\u001b[0m\u001b[0m\n\u001b[1;32m    540\u001b[0m                 \u001b[0;32melse\u001b[0m\u001b[0;34m:\u001b[0m\u001b[0;34m\u001b[0m\u001b[0;34m\u001b[0m\u001b[0m\n",
            "\u001b[0;31mValueError\u001b[0m: invalid literal for int() with base 10: ''"
          ]
        },
        {
          "output_type": "display_data",
          "data": {
            "image/png": "[encoded data removed]",
            "text/plain": [
              "<Figure size 432x288 with 4 Axes>"
            ]
          },
          "metadata": {
            "tags": []
          }
        }
      ]
    },
    {
      "cell_type": "code",
      "metadata": {
        "id": "sTWK7vjxULat",
        "colab_type": "code",
        "outputId": "b4fbcbf5-c033-412b-9ec5-591c5f85cfdb",
        "colab": {
          "base_uri": "https://localhost:8080/",
          "height": 34
        }
      },
      "source": [
        "xy.standardize().cov(), xy.corr()"
      ],
      "execution_count": 0,
      "outputs": [
        {
          "output_type": "execute_result",
          "data": {
            "text/plain": [
              "(0.80137396334194, 0.8013739633419372)"
            ]
          },
          "metadata": {
            "tags": []
          },
          "execution_count": 92
        }
      ]
    },
    {
      "cell_type": "markdown",
      "metadata": {
        "id": "R0awcIAcULav",
        "colab_type": "text"
      },
      "source": [
        "# HW3, Part II"
      ]
    },
    {
      "cell_type": "markdown",
      "metadata": {
        "id": "luLaPr0GULav",
        "colab_type": "text"
      },
      "source": [
        "# f)\n",
        "\n",
        "Spin the Uniform(0, 1) spinner twice and let $U_1$ be the result of the first spin and $U_2$ the result of the second.  Define $X=-\\log(U_1)$ and $Y=X + U_2$.\n",
        "\n",
        "- Sketch a plot of the joint distribution of $X$ and $Y$ and determine if the covariance will be positive, negative, or zero.\n",
        "- Sketch the marginal distributions.\n",
        "- Perform an appropriate simulation analysis.\n",
        "- Explain why the plots look the way they do, and the sign of the covariance."
      ]
    },
    {
      "cell_type": "code",
      "metadata": {
        "id": "uteMxLTlULaw",
        "colab_type": "code",
        "colab": {}
      },
      "source": [
        "# Enter your Symbulate code here"
      ],
      "execution_count": 0,
      "outputs": []
    },
    {
      "cell_type": "markdown",
      "metadata": {
        "id": "W8vptKATULay",
        "colab_type": "text"
      },
      "source": [
        "**TYPE YOUR RESPONSE HERE.**"
      ]
    },
    {
      "cell_type": "markdown",
      "metadata": {
        "id": "FjqyNNFlULay",
        "colab_type": "text"
      },
      "source": [
        "# g)learned to use x = xy[0] and y = xy[1] to randomly select a stored pair.\n",
        "#  )learned that a standardized random variable is centered at zero with a sd of 1\n",
        "#  )also that correlation of random vars is the covariance between their standardized versions \n",
        "#  )learned about .standardize\n",
        "\n",
        "Reflection: Write a paragraph, or some bullet points, of what you learned from this lab"
      ]
    },
    {
      "cell_type": "markdown",
      "metadata": {
        "id": "djvIKAf4ULaz",
        "colab_type": "text"
      },
      "source": [
        "**TYPE YOUR RESPONSE HERE.**"
      ]
    },
    {
      "cell_type": "markdown",
      "metadata": {
        "id": "SCgJZhIIULa0",
        "colab_type": "text"
      },
      "source": [
        "# h)are there other uses for .standarize aside from correlation\n",
        "\n",
        "Reflection: Write a paragraph, or some bullet points, of some questions you have about the material introduced in this lab."
      ]
    },
    {
      "cell_type": "markdown",
      "metadata": {
        "id": "B24_DnUfULa1",
        "colab_type": "text"
      },
      "source": [
        "**TYPE YOUR RESPONSE HERE.**"
      ]
    },
    {
      "cell_type": "code",
      "metadata": {
        "id": "TutguJB3d4wM",
        "colab_type": "code",
        "colab": {}
      },
      "source": [
        ""
      ],
      "execution_count": 0,
      "outputs": []
    },
    {
      "cell_type": "markdown",
      "metadata": {
        "id": "CDCpg1KmULa1",
        "colab_type": "text"
      },
      "source": [
        "## Submission Instructions\n",
        "\n",
        "- After you have completed the notebook, in Jupyter select **Kernel > Restart kernel and run all** cells.  In JupyterLab, select **Kernel > Restart kernel** then **Run > Run all cells.**\n",
        "- After the notebook finishes rerunning check to make sure that you have no errors and everything runs properly.  Fix any problems and redo this step until it works.\n",
        "- **NOTE: If you included any 2d histograms, the error message is going to make the notebook stop running.  You'll have to go back and manually run the remaining cells.**\n",
        "- Make sure you typed the names of both partners at the top of the notebook where it says \"Type your names here\".\n",
        "- Save both a notebook and a HTML version.  In \n",
        "  - Notebook: JupyterLab: right click on the file name and choose download. Jupyter: File > Download as > Notebook.  \n",
        "  - HTML: JupyterLab: select File > Export to > HTML. Jupyter: File > Download as > HTML.\n",
        "- Submit your files in PL.  Remember, only one submission per team.  (Either partner can submit.)"
      ]
    },
    {
      "cell_type": "code",
      "metadata": {
        "id": "qgz2zh7gULa2",
        "colab_type": "code",
        "colab": {}
      },
      "source": [
        ""
      ],
      "execution_count": 0,
      "outputs": []
    }
  ]
}